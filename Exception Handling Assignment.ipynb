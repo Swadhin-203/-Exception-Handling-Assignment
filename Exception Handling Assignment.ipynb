{
 "cells": [
  {
   "cell_type": "markdown",
   "id": "955313b4",
   "metadata": {},
   "source": [
    "Q1. Explain why we have to use the Exception class while creating a Custom Exception.\n",
    "Note: Here Exception class refers to the base class for all the exceptions.\n",
    "Ans:When creating a custom exception in Python, it is recommended to inherit from the Exception class, which is the base class for all built-in exceptions in Python.Consistency: Using the Exception class as the base class ensures that our custom exception follows the same design patterns and conventions as built-in exceptions in Python.\n",
    "\n",
    "Error Handling: When a program encounters an exception, it typically handles it by catching the exception and taking some corrective action. By inheriting from the Exception class, our custom exception can be handled in the same way as built-in exceptions, making error handling more consistent and streamlined.\n",
    "\n",
    "Customization: By creating a custom exception, we can provide more context and information about the error that occurred. Inheriting from the Exception class provides us with a solid foundation for building out our custom exception, while still allowing us to add any additional attributes or behaviors that we want.\n",
    "\n",
    "Clarity: By creating a custom exception, we can make the code more readable and easier to understand. This is especially true if we provide informative error messages that help developers pinpoint the root cause of the problem."
   ]
  },
  {
   "cell_type": "code",
   "execution_count": 2,
   "id": "751ebfd4",
   "metadata": {},
   "outputs": [],
   "source": [
    "# Q2. Write a python program to print Python Exception Hierarchy.\n",
    "# Ans:\n",
    "base_exception = BaseException\n",
    "\n",
    "while True:\n",
    "    print(base_exception.__name__)\n",
    "    if base_exception == Exception:\n",
    "        break\n",
    "    base_exception = base_exception.__base__\n"
   ]
  },
  {
   "cell_type": "markdown",
   "id": "6657c86d",
   "metadata": {},
   "source": [
    "Q3. What errors are defined in the ArithmeticError class? Explain any two with an example.\n",
    "Ans:The ArithmeticError class in Python is the base class for exceptions that occur during arithmetic operations. This includes a wide range of errors that can occur when working with numbers, such as division by zero, integer overflow, and so on. Here are two examples of errors defined in the ArithmeticError class \n",
    "In this example, attempting to divide 10 by 0 will raise a ZeroDivisionError, which is caught by the except block and a message is printed to the console.\n",
    "\n",
    " OverflowError - This exception is raised when attempting to perform an operation that results in a number that is too large to be represented in memory. For example:\n",
    "import sys\n",
    "x = sys.maxsize\n",
    "try:\n",
    "    y = x * 2\n",
    "except OverflowError:\n",
    "    print(\"Error: Integer overflow\")\n",
    "\n",
    "    \n",
    "    "
   ]
  },
  {
   "cell_type": "code",
   "execution_count": 3,
   "id": "3dd3366f",
   "metadata": {},
   "outputs": [
    {
     "name": "stdout",
     "output_type": "stream",
     "text": [
      "Error: Key not found\n",
      "Error: Index out of bounds\n"
     ]
    }
   ],
   "source": [
    "# Q4. Why LookupError class is used? Explain with an example KeyError and IndexError.\n",
    "# Ans:The LookupError class in Python is the base class for exceptions that occur when a key or index is not found in a sequence or mapping. \n",
    "# It is a subclass of the built-in Exception class.\n",
    "# KeyError - This exception is raised when attempting to access a key in a dictionary that does not exist. For example:\n",
    "\n",
    "# python\n",
    "my_dict = {\"key1\": \"value1\", \"key2\": \"value2\"}\n",
    "try:\n",
    "    my_dict[\"key3\"]\n",
    "except KeyError:\n",
    "    print(\"Error: Key not found\")\n",
    "# IndexError - This exception is raised when attempting to access an index in a sequence that is out of bounds. For example:\n",
    "my_list = [1, 2, 3]\n",
    "try:\n",
    "    my_list[3]\n",
    "except IndexError:\n",
    "    print(\"Error: Index out of bounds\")\n"
   ]
  },
  {
   "cell_type": "markdown",
   "id": "1c106d52",
   "metadata": {},
   "source": [
    "Q5. Explain ImportError. What is ModuleNotFoundError?\n",
    "Ans:ImportError is a built-in Python exception that is raised when a module or package is unable to be imported. This can occur for a variety of reasons, such as a missing module, a circular import, or a problem with the module's code.\n",
    "\n",
    "ModuleNotFoundError is a subclass of ImportError that is raised when a module or package is not found in the current scope. This error was introduced in Python 3.6 to provide more specific and informative error messages when a module cannot be found.\n"
   ]
  },
  {
   "cell_type": "markdown",
   "id": "07000436",
   "metadata": {},
   "source": [
    "Q6. List down some best practices for exception handling in python.\n",
    "Ans:Be specific: Catch specific exceptions rather than using a broad exception like Exception. This helps in debugging the issue and writing appropriate code for the error.\n",
    "\n",
    "Use finally block: Use a finally block to close resources or do some cleanup work, such as closing files, releasing locks, or closing database connections.\n",
    "\n",
    "Avoid empty except block: Avoid using an empty except block as it can catch all exceptions, including system errors and keyboard interrupts.\n",
    "\n",
    "Use exception chaining: Use exception chaining to preserve the original error message and traceback while adding additional information.\n",
    "\n",
    "Handle exceptions close to the source: Handle exceptions as close to the source as possible to avoid cascading errors.\n",
    "\n",
    "Document exceptions: Document the exceptions that can be raised by your functions and methods. This helps other developers understand the code and handle exceptions correctly.\n",
    "\n",
    "Use logging instead of print statements: Use the logging module instead of print statements to log errors and messages. This helps in debugging and tracing the flow of the code.\n"
   ]
  },
  {
   "cell_type": "code",
   "execution_count": null,
   "id": "e77fde51",
   "metadata": {},
   "outputs": [],
   "source": []
  },
  {
   "cell_type": "code",
   "execution_count": null,
   "id": "d8c262a0",
   "metadata": {},
   "outputs": [],
   "source": []
  }
 ],
 "metadata": {
  "kernelspec": {
   "display_name": "Python 3 (ipykernel)",
   "language": "python",
   "name": "python3"
  },
  "language_info": {
   "codemirror_mode": {
    "name": "ipython",
    "version": 3
   },
   "file_extension": ".py",
   "mimetype": "text/x-python",
   "name": "python",
   "nbconvert_exporter": "python",
   "pygments_lexer": "ipython3",
   "version": "3.10.5"
  }
 },
 "nbformat": 4,
 "nbformat_minor": 5
}
